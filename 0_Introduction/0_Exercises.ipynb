{
 "cells": [
  {
   "cell_type": "markdown",
   "id": "529d91ae",
   "metadata": {
    "tags": []
   },
   "source": [
    "# Exercise 00\n",
    "Write a bit of code that prints _Introduction to Programming_ to the console and execute the cell"
   ]
  },
  {
   "cell_type": "code",
   "execution_count": 1,
   "id": "98711beb",
   "metadata": {},
   "outputs": [
    {
     "name": "stdout",
     "output_type": "stream",
     "text": [
      "Introduction to Programming\n"
     ]
    }
   ],
   "source": [
    "print('Introduction to Programming')"
   ]
  },
  {
   "cell_type": "markdown",
   "id": "b7082cda-6234-4977-a5b2-5c7d3255454d",
   "metadata": {},
   "source": [
    "-----------------------------------------------------------------------------\n",
    "# Exercise 01\n",
    "Hello World is traditionally the first program anyone writes. It is\n",
    "very simple and the only thing it should do is print Hello World! to the\n",
    "terminal window.\n",
    "\n",
    "Create a file called HelloWorld.py and edit the contents so it prints Hello World! to the terminal and execute it using the command line."
   ]
  },
  {
   "cell_type": "code",
   "execution_count": 3,
   "id": "8842dbd2-a099-4d02-8548-91a273e72baa",
   "metadata": {},
   "outputs": [],
   "source": [
    "with open('HelloWorld.py', 'w') as file:\n",
    "    file.write('print(\"Hello World!\")\\n')\n",
    "\n",
    "# python HelloWorld.py"
   ]
  },
  {
   "cell_type": "markdown",
   "id": "0724719e-ad45-4b39-9ef4-a07e7ddb57e9",
   "metadata": {},
   "source": [
    "-----------------------------------------------------------------------------\n",
    "# Exercise 02\n",
    "Write some code to print your name, email, and age on separate lines. For each element first assign it to a variable and use the variable to print. \n",
    "\n",
    "Bonus: try to create the print statement for all variable in one line of code. (hint: '\\n' is the character for a new line)"
   ]
  },
  {
   "cell_type": "code",
   "execution_count": 5,
   "id": "fc8fface",
   "metadata": {},
   "outputs": [
    {
     "name": "stdout",
     "output_type": "stream",
     "text": [
      "Minyue Li\n",
      "ucbvm09@ucl.ac.uk\n",
      "23\n",
      "Minyue Li\n",
      "ucbvm09@ucl.ac.uk\n",
      "23\n"
     ]
    }
   ],
   "source": [
    "name = 'Minyue Li'\n",
    "email = 'ucbvm09@ucl.ac.uk'\n",
    "age = 23\n",
    "print(name)\n",
    "print(email)\n",
    "print(age)\n",
    "\n",
    "print(f\"{name}\\n{email}\\n{age}\")"
   ]
  },
  {
   "cell_type": "markdown",
   "id": "0dd1c1d1",
   "metadata": {},
   "source": [
    "-----------------------------------------------------------------------------\n",
    "# Exercise 03\n",
    "Print the numbers 0, 178, -21, 2938 divided by 49, 436 multiplied with 9948 and 12 to the power of 20\n",
    "\n",
    "(Hint: Look up the documentation of basic arithmetic operators)"
   ]
  },
  {
   "cell_type": "code",
   "execution_count": 26,
   "id": "f3d5d009",
   "metadata": {},
   "outputs": [
    {
     "name": "stdout",
     "output_type": "stream",
     "text": [
      "[0.0, 3.63265306122449, -0.004243281471004243, 59.95918367346939]\n",
      "4337328\n",
      "3833759992447475122176\n"
     ]
    }
   ],
   "source": [
    "results_division= [0/49,178/49,-21/4949,2938/49]\n",
    "print(results_division)\n",
    "print(436*9948)\n",
    "print(12**20)"
   ]
  },
  {
   "cell_type": "markdown",
   "id": "1f151455",
   "metadata": {},
   "source": [
    "-----------------------------------------------------------------------------\n",
    "# Exercise 04\n",
    "Print sin(200), cos(100), tan($\\pi$/4)\n",
    "\n",
    "(Hint: Look up for how to use trigonometric function, and how to get the value of $\\pi$.)"
   ]
  },
  {
   "cell_type": "code",
   "execution_count": 41,
   "id": "d0e37690",
   "metadata": {},
   "outputs": [
    {
     "name": "stdout",
     "output_type": "stream",
     "text": [
      "-0.8732972972139946\n",
      "0.8623188722876839\n",
      "0.9999999999999999\n"
     ]
    }
   ],
   "source": [
    "import math\n",
    "number = math.pi\n",
    "\n",
    "result1 = math.sin(200)\n",
    "print(result1)\n",
    "\n",
    "result2 = math.cos(100)\n",
    "print(result2)\n",
    "\n",
    "result3 = math.tan(number/4)\n",
    "print(result3)"
   ]
  },
  {
   "cell_type": "markdown",
   "id": "9d026820",
   "metadata": {},
   "source": [
    "-----------------------------------------------------------------------------\n",
    "# Exercise 05\n",
    "Write a program to read your first and last names from the console seperately, and then print them on the console together, separated by a space."
   ]
  },
  {
   "cell_type": "code",
   "execution_count": 48,
   "id": "4c7217e0",
   "metadata": {},
   "outputs": [
    {
     "name": "stdout",
     "output_type": "stream",
     "text": [
      "Minyue\n",
      "Li\n",
      "Minyue Li\n"
     ]
    }
   ],
   "source": [
    "First_Name = \"Minyue\"\n",
    "Last_Name = \"Li\"\n",
    "Full_Name = First_Name + ' ' + Last_Name \n",
    "print(First_Name)\n",
    "print(Last_Name)\n",
    "print(Full_Name)"
   ]
  },
  {
   "cell_type": "markdown",
   "id": "e83fa346",
   "metadata": {},
   "source": [
    "-----------------------------------------------------------------------------\n",
    "# Exercise 06\n",
    "Write a program that determines whether a number given as user input is positive or negative\n",
    " \n",
    "You will need to convert the console input from a string to a number first!"
   ]
  },
  {
   "cell_type": "code",
   "execution_count": 55,
   "id": "ecd924c2",
   "metadata": {},
   "outputs": [
    {
     "name": "stdin",
     "output_type": "stream",
     "text": [
      "number 10\n"
     ]
    },
    {
     "name": "stdout",
     "output_type": "stream",
     "text": [
      "The number is positive\n"
     ]
    }
   ],
   "source": [
    "User_input = input(\"number\")\n",
    "Final_number = int(number)\n",
    "if(Final_number<0):\n",
    "    print(\"The number is negative\")\n",
    "else:\n",
    "    print(\"The number is positive\")"
   ]
  },
  {
   "cell_type": "markdown",
   "id": "2a192596",
   "metadata": {},
   "source": [
    "-----------------------------------------------------------------------------\n",
    "# Exercise 07\n",
    "Write a program that picks a random number between 1-20 and makes the user guess until they get the number right. Then print a congratulations message\n",
    "- (Find out yourself how to generate a random integer)\n",
    "- Bonus: make the user choose the range within which they have to guess\n",
    "- Bonus: keep track of how many guesses were made and print this at the end"
   ]
  },
  {
   "cell_type": "code",
   "execution_count": null,
   "id": "70358dd3",
   "metadata": {},
   "outputs": [],
   "source": [
    "import random_number\n",
    "\n",
    "for random_number in range(0,20):\n",
    "    print(random_number)\n",
    "print(Congratulations to all users！)"
   ]
  },
  {
   "cell_type": "markdown",
   "id": "d53b9c07",
   "metadata": {},
   "source": [
    "-----------------------------------------------------------------------------\n",
    "# Exercise 08\n",
    "Ask a sentence as input, then print the words in alphabetical order.\n",
    "Hint: look up how to split up a string"
   ]
  },
  {
   "cell_type": "code",
   "execution_count": null,
   "id": "b6524cf5",
   "metadata": {},
   "outputs": [],
   "source": [
    "Input = \"Are you happy?\"\n",
    "print(Input)\n",
    "for char in Input:\n",
    "    print(char)"
   ]
  },
  {
   "cell_type": "markdown",
   "id": "09a7b060",
   "metadata": {},
   "source": [
    "-----------------------------------------------------------------------------\n",
    "# Exercise 09\n",
    "Write a program using for loops to print a christmas tree of x lines high\n",
    "specified by the user.\n",
    "(use for loops)\n",
    "so for instance, a chrismas tree of 4 high should looks like this:\n",
    "\n",
    "```\n",
    "\n",
    "    *\n",
    "   ***\n",
    "  *****\n",
    " *******\n",
    "    |\n",
    "\n",
    "```\n",
    "\n",
    "hint: first combine strings into a variable before printing"
   ]
  },
  {
   "cell_type": "code",
   "execution_count": null,
   "id": "5150f7a4",
   "metadata": {},
   "outputs": [],
   "source": [
    "def print_christmas_tree(height):\n",
    "    for i in range(height):\n",
    "        def print_christmas_tree(line):\n",
    "            for k in range(line):\n",
    "                print(2 * k - 1)\n",
    "        print()\n",
    "User_input = input(\"Enter the height of the Christmas tree:\")\n",
    "height = int(input(\"Enter the height of the Christmas tree: \"))\n",
    "print_christmas_tree(height)\n"
   ]
  },
  {
   "cell_type": "markdown",
   "id": "07f67531",
   "metadata": {},
   "source": [
    "-----------------------------------------------------------------------------\n",
    "# Exercise 10\n",
    "Write a piece of code that prints the first $n$ numbers of the padovan sequence"
   ]
  },
  {
   "cell_type": "code",
   "execution_count": null,
   "id": "d301c61b",
   "metadata": {},
   "outputs": [],
   "source": [
    "def padovan_sequence(n):\n",
    "    if n=0:\n",
    "        return[1]\n",
    "    elif n==1:\n",
    "        return[1,1]\n",
    "    elif n==2:\n",
    "         return[1,1,1]\n",
    "    sequence = [1,1,1]\n",
    "    \n",
    "    for i in range(3,n):\n",
    "        next_number=sequence[i-2]+sequence[i-3]\n",
    "    return sequence\n",
    "print(padovan_sequence(n))"
   ]
  }
 ],
 "metadata": {
  "kernelspec": {
   "display_name": "Python 3 (ipykernel)",
   "language": "python",
   "name": "python3"
  },
  "language_info": {
   "codemirror_mode": {
    "name": "ipython",
    "version": 3
   },
   "file_extension": ".py",
   "mimetype": "text/x-python",
   "name": "python",
   "nbconvert_exporter": "python",
   "pygments_lexer": "ipython3",
   "version": "3.12.4"
  }
 },
 "nbformat": 4,
 "nbformat_minor": 5
}
